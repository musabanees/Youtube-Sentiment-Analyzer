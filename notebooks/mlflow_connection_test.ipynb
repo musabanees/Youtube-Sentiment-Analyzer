{
 "cells": [
  {
   "cell_type": "code",
   "execution_count": 1,
   "id": "2ccb6086",
   "metadata": {},
   "outputs": [
    {
     "name": "stderr",
     "output_type": "stream",
     "text": [
      "2025/10/16 12:57:49 INFO mlflow.tracking._tracking_service.client: 🏃 View run clean-flea-828 at: http://ec2-54-198-190-245.compute-1.amazonaws.com:5000/#/experiments/0/runs/d8c4d0b7be6a4b3bb006e415b0c9a98c.\n",
      "2025/10/16 12:57:49 INFO mlflow.tracking._tracking_service.client: 🧪 View experiment at: http://ec2-54-198-190-245.compute-1.amazonaws.com:5000/#/experiments/0.\n"
     ]
    }
   ],
   "source": [
    "import mlflow\n",
    "\n",
    "mlflow.set_tracking_uri(\"http://ec2-54-198-190-245.compute-1.amazonaws.com:5000\")\n",
    "\n",
    "with mlflow.start_run():\n",
    "    mlflow.log_param(\"param1\" , 15)\n",
    "    mlflow.log_metric(\"metric1\" , 0.89)"
   ]
  },
  {
   "cell_type": "code",
   "execution_count": null,
   "id": "076a8725",
   "metadata": {},
   "outputs": [],
   "source": []
  }
 ],
 "metadata": {
  "kernelspec": {
   "display_name": "venv",
   "language": "python",
   "name": "python3"
  },
  "language_info": {
   "codemirror_mode": {
    "name": "ipython",
    "version": 3
   },
   "file_extension": ".py",
   "mimetype": "text/x-python",
   "name": "python",
   "nbconvert_exporter": "python",
   "pygments_lexer": "ipython3",
   "version": "3.12.10"
  }
 },
 "nbformat": 4,
 "nbformat_minor": 5
}
